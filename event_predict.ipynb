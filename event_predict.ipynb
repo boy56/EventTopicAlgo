{
 "cells": [
  {
   "cell_type": "code",
   "execution_count": 1,
   "metadata": {},
   "outputs": [],
   "source": [
    "import pandas as pd\n",
    "import numpy as np\n",
    "import codecs\n",
    "from tqdm import tqdm\n",
    "import re\n",
    "from datetime import datetime"
   ]
  },
  {
   "cell_type": "code",
   "execution_count": 7,
   "metadata": {},
   "outputs": [],
   "source": [
    "df = pd.read_csv(\"data/南海自由航行_news_newlabel.csv\")"
   ]
  },
  {
   "cell_type": "code",
   "execution_count": 25,
   "metadata": {},
   "outputs": [
    {
     "data": {
      "text/plain": [
       "{'入侵行动': 0, '防卫行动': 1, '访问行动': 2, '军演行动': 3, '国家立场': 4, '媒体评论': 5}"
      ]
     },
     "execution_count": 25,
     "metadata": {},
     "output_type": "execute_result"
    }
   ],
   "source": [
    "event_info = {}\n",
    "eventtoid = {}\n",
    "idtoevent = {}\n",
    "id_num = 0\n",
    "with codecs.open(\"dict/事件节点.txt\",\"r\",\"UTF-8\") as rf:\n",
    "    for line in rf.readlines():\n",
    "        event_center, event_des = line.strip().split(\":\")\n",
    "        event_info[event_center] = event_des\n",
    "        eventtoid[event_center] = id_num\n",
    "        idtoevent[id_num] = event_center\n",
    "        id_num += 1\n",
    "eventtoid"
   ]
  },
  {
   "cell_type": "code",
   "execution_count": 26,
   "metadata": {},
   "outputs": [
    {
     "data": {
      "text/plain": [
       "array([[0., 0., 0., 0., 0., 0.],\n",
       "       [0., 0., 0., 0., 0., 0.],\n",
       "       [0., 0., 0., 0., 0., 0.],\n",
       "       [0., 0., 0., 0., 0., 0.],\n",
       "       [0., 0., 0., 0., 0., 0.],\n",
       "       [0., 0., 0., 0., 0., 0.]])"
      ]
     },
     "execution_count": 26,
     "metadata": {},
     "output_type": "execute_result"
    }
   ],
   "source": [
    "# 利用二维列表表示关系图\n",
    "event_graph = np.zeros([id_num, id_num])\n",
    "event_graph"
   ]
  },
  {
   "cell_type": "markdown",
   "metadata": {},
   "source": [
    "# 根据新闻标题的内容共现关系构建事件中心关系图"
   ]
  },
  {
   "cell_type": "markdown",
   "metadata": {},
   "source": [
    "- 根据标题的内容标签共现构建关系图"
   ]
  },
  {
   "cell_type": "code",
   "execution_count": 27,
   "metadata": {},
   "outputs": [
    {
     "name": "stderr",
     "output_type": "stream",
     "text": [
      "100%|██████████████████████████████████████████████████████████████████████████| 4943/4943 [00:00<00:00, 411913.79it/s]\n"
     ]
    },
    {
     "data": {
      "text/plain": [
       "array([[  0., 152.,   1.,  42., 290., 148.],\n",
       "       [152.,   0.,   1.,   8.,  99.,  46.],\n",
       "       [  1.,   1.,   0.,   0.,   3.,   6.],\n",
       "       [ 42.,   8.,   0.,   0.,  28.,  34.],\n",
       "       [290.,  99.,   3.,  28.,   0.,  81.],\n",
       "       [148.,  46.,   6.,  34.,  81.,   0.]])"
      ]
     },
     "execution_count": 27,
     "metadata": {},
     "output_type": "execute_result"
    }
   ],
   "source": [
    "# 依据新闻标题构建事件中心关系图\n",
    "for content_label_info in tqdm(df['content_label']):\n",
    "    labels = content_label_info.split(' ')\n",
    "    # print(labels)\n",
    "    for i in range(len(labels)-1):\n",
    "        for j in range(i+1, len(labels)):\n",
    "            event_graph[eventtoid[labels[i]]][eventtoid[labels[j]]] += 1\n",
    "            event_graph[eventtoid[labels[j]]][eventtoid[labels[i]]] += 1\n",
    "event_graph"
   ]
  },
  {
   "cell_type": "markdown",
   "metadata": {},
   "source": [
    "# 根据新闻内容构建事件中心关系图"
   ]
  },
  {
   "cell_type": "markdown",
   "metadata": {},
   "source": [
    "- 根据文章共现关系构建关系图,分句-分类-构建\n",
    "- 根据文章前后句连接词构建关系图 分句-分类-识别连接词-构建"
   ]
  },
  {
   "cell_type": "code",
   "execution_count": 14,
   "metadata": {},
   "outputs": [
    {
     "name": "stdout",
     "output_type": "stream",
     "text": [
      "['原标题：美方在南海开展“航行自由行动”？中方：人不犯我', '我不犯人']\n",
      "['外交部：坚决反对打着航行自由幌子损害南海沿岸国主权与安全利益的行为', '外交部发言人华春莹16日在例行记者会上表示，中国坚定维护各国依据国际法所享有的真正的航行与飞越自由，同时坚决反对打着所谓航行自由的幌子损害南海沿岸国主权与安全利益的行为。', '在当日的记者会上，有记者问：美国副总统彭斯说南海不属于任何一个国家，美国将继续在国际法允许的范围内行使航行和飞越自由。中方是否认为彭斯的相关言论是种挑衅？', '华春莹说，南海航行和飞越自由从来不存在任何问题。“我们曾经多次问美方或者声称南海航行自由有问题的人，请拿出证据来，证明有哪个国家的哪艘船、哪架飞机、什么时候在南海航行或者飞越时遇到了问题？但到目前为止，没有任何人给出一个明确的答案。由此可见，所谓南海航行与飞越自由根本就是一个不存在的伪命题。”', '华春莹表示，中方的立场非常明确，愿与地区国家一道，坚定维护各国依据国际法所享有的真正的航行与飞越自由，同时坚决反对那些打着所谓航行自由的幌子损害南海沿岸国主权与安全利益的行为。', '“另外，请你提醒一下美方有关人士，美国到现在还没有批准《联合国海洋法公约》。如果美方能够尽早批准并遵守《公约》，我想将更加有利于维护南海地区的和平稳定。”华春莹说。', '消息来源：新华社', '本期编审：孙', '利', '责任编辑：朱西迪、李明', '投稿邮箱：gfsk@cnr.cn', '转载请注明出处！']\n",
      "['一艘英国皇家海军军舰日前驶向越南途中，在接近中国于南海声索的岛屿附近航行，以彰显“航行自由”，但遭中国方面派出舰船及直升机驱离。']\n",
      "['外交部发言人华春莹16日在例行记者会上表示，中国坚定维护各国依据国际法所享有的真正的航行与飞越自由，同时坚决反对打着所谓航行自由的幌子损害南海沿岸国主权与安全利益的行为。', '在当日的记者会上，有记者问：美国副总统彭斯说南海不属于任何一个国家，美国将继续在国际法允许的范围内行使航行和飞越自由。中方是否认为彭斯的相关言论是种挑衅？', '华春莹说，南海航行和飞越自由从来不存在任何问题。“我们曾经多次问美方或者声称南海航行自由有问题的人，请拿出证据来，证明有哪个国家的哪艘船、哪架飞机、什么时候在南海航行或者飞越时遇到了问题？但到目前为止，没有任何人给出一个明确的答案。由此可见，所谓南海航行与飞越自由根本就是一个不存在的伪命题。”', '华春莹表示，中方的立场非常明确，愿与地区国家一道，坚定维护各国依据国际法所享有的真正的航行与飞越自由，同时坚决反对那些打着所谓航行自由的幌子损害南海沿岸国主权与安全利益的行为。', '“另外，请你提醒一下美方有关人士，美国到现在还没有批准《联合国海洋法公约》。如果美方能够尽早批准并遵守《公约》，我想将更加有利于维护南海地区的和平稳定。”华春莹说。(新华社北京11月16日电', '记者侯晓晨)']\n",
      "['外交部发言人华春莹16日在例行记者会上表示，中国坚定维护各国依据国际法所享有的真正的航行与飞越自由，同时坚决反对打着所谓航行自由的幌子损害南海沿岸国主权与安全利益的行为。', '在当日的记者会上，有记者问：美国副总统彭斯说南海不属于任何一个国家，美国将继续在国际法允许的范围内行使航行和飞越自由。中方是否认为彭斯的相关言论是种挑衅？', '华春莹说，南海航行和飞越自由从来不存在任何问题。“我们曾经多次问美方或者声称南海航行自由有问题的人，请拿出证据来，证明有哪个国家的哪艘船、哪架飞机、什么时候在南海航行或者飞越时遇到了问题？但到目前为止，没有任何人给出一个明确的答案。由此可见，所谓南海航行与飞越自由根本就是一个不存在的伪命题。”', '华春莹表示，中方的立场非常明确，愿与地区国家一道，坚定维护各国依据国际法所享有的真正的航行与飞越自由，同时坚决反对那些打着所谓航行自由的幌子损害南海沿岸国主权与安全利益的行为。', '“另外，请你提醒一下美方有关人士，美国到现在还没有批准《联合国海洋法公约》。如果美方能够尽早批准并遵守《公约》，我想将更加有利于维护南海地区的和平稳定。”华春莹说。（新华社北京11月16日电', '记者侯晓晨）']\n",
      "['url:http://m.gmw.cn/2018-10/02/content_31491720.htm,id:31491720', '【美军称中国驱逐舰在南海逼近美舰', '最近仅45英尺】CNN当地时间1日报道，一艘中国驱逐舰逼近在南海非法航行的美军舰迪凯特号。一名美国防部官员称，中国驱逐舰距美军舰最近仅45英尺。该事件发生在上周日，美军声称在进行所谓的“自由航行”。', '\\u200b']\n",
      "['外交部发言人华春莹16日在例行记者会上表示，中国坚定维护各国依据国际法所享有的真正的航行与飞越自由，同时坚决反对打着所谓航行自由的幌子损害南海沿岸国主权与安全利益的行为。', '在当日的记者会上，有记者问：美国副总统彭斯说南海不属于任何一个国家，美国将继续在国际法允许的范围内行使航行和飞越自由。中方是否认为彭斯的相关言论是种挑衅？', '华春莹说，南海航行和飞越自由从来不存在任何问题。“我们曾经多次问美方或者声称南海航行自由有问题的人，请拿出证据来，证明有哪个国家的哪艘船、哪架飞机、什么时候在南海航行或者飞越时遇到了问题？但到目前为止，没有任何人给出一个明确的答案。由此可见，所谓南海航行与飞越自由根本就是一个不存在的伪命题。”', '华春莹表示，中方的立场非常明确，愿与地区国家一道，坚定维护各国依据国际法所享有的真正的航行与飞越自由，同时坚决反对那些打着所谓航行自由的幌子损害南海沿岸国主权与安全利益的行为。', '“另外，请你提醒一下美方有关人士，美国到现在还没有批准《联合国海洋法公约》。如果美方能够尽早批准并遵守《公约》，我想将更加有利于维护南海地区的和平稳定。”华春莹说。（新华社北京11月16日电', '记者侯晓晨）', '外交部发言人华春莹16日在例行记者会上表示，中国坚定维护各国依据国际法所享有的真正的航行与飞越自由，同时坚决反对打着所谓航行自由的幌子损害南海沿岸国主权与安全利益的行为。', '在当日的记者会上，有记者问：美国副总统彭斯说南海不属于任何一个国家，美国将继续在国际法允许的范围内行使航行和飞越自由。中方是否认为彭斯的相关言论是种挑衅？', '华春莹说，南海航行和飞越自由从来不存在任何问题。“我们曾经多次问美方或者声称南海航行自由有问题的人，请拿出证据来，证明有哪个国家的哪艘船、哪架飞机、什么时候在南海航行或者飞越时遇到了问题？但到目前为止，没有任何人给出一个明确的答案。由此可见，所谓南海航行与飞越自由根本就是一个不存在的伪命题。”', '华春莹表示，中方的立场非常明确，愿与地区国家一道，坚定维护各国依据国际法所享有的真正的航行与飞越自由，同时坚决反对那些打着所谓航行自由的幌子损害南海沿岸国主权与安全利益的行为。', '“另外，请你提醒一下美方有关人士，美国到现在还没有批准《联合国海洋法公约》。如果美方能够尽早批准并遵守《公约》，我想将更加有利于维护南海地区的和平稳定。”华春莹说。（新华社北京11月16日电', '记者侯晓晨）']\n",
      "['海外网2月28日电', '据国防部官网消息，2019年国防部首次例行记者会于28日举行。有记者问：不久前，美军政官员在不同场合表示，美军将持续开展南海“航行自由行动”。请问对此作何评论？', '任国强：中国对南海诸岛及其附近海域拥有无可争辩的主权。在中国和东盟国家的共同努力下，当前南海形势总体向好。在这种情况下，美方“不请自来”，一再派遣舰机擅闯中国南海岛礁邻近海空域，损害中国的主权安全，践踏国际法和国际准则，危害地区和平与稳定。我们对此坚决反对。', '中国一贯尊重各国依据国际法在南海享有的航行和飞越自由。事实证明，南海航行是不存在问题的，但航行不是“横行”，自由不能违法。中方坚决反对任何国家借“航行自由”之名进行违法挑衅，损害沿岸国主权和安全，危害地区和平与稳定。', '我们要求美方切实尊重中国的主权和安全，尊重地区国家维护和平、稳定与安宁的强烈共同愿望，不要在南海无事生非、兴风作浪。中国军队将采取坚决措施，坚定捍卫国家主权和安全，坚定维护地区和平稳定。']\n",
      "['字号:大中小', '摘要：美国总统特朗普政府批准美军在南海规律执行“自由航行行动”年度计划，对此，《印度时报》窃喜，认为美国频繁巡航南海，会让中国忙到无暇顾及与日本、印度的海洋纠纷。', '5月5日正在南海航行的美国海军“杜威”号驱逐舰', '来源：美国海军官方网站', '7月24日电', '美国总统特朗普政府批准美军在南海规律执行“自由航行行动”年度计划，对此，《印度时报》窃喜，认为美国频繁巡航南海，会让中国忙到无暇顾及与日本、印度的海洋纠纷。', '美国新兴网络媒体布莱特巴特网21日发表“独家报道”称，特朗普政府已经批准了五角大楼要求美军“例行、规律地”在南海开展“自由航行行动”的年度计划，这将令美国海军更自由开展此类行动，相关航行请求将会“更快得到批准”。', '据《中时电子报》报道，特朗普就职后，美军在南海的“自由航行行动”一度暂停，但美国时间5月24日，美国海军“杜威号”导弹驱逐舰驶入美济礁四周12海里海域内，执行“自由航行行动”，成为自去年10月以来，美国海军首次进入南海，具有重要战略安全与政策走向的意图。', '综合媒体报道，一名美国官员透露，防长先前不愿批准，是因不希望在整体体制确立前，向白宫递交“零碎”请求，但如今新的计划已推出，白宫对美军巡航计划了解更加透彻，往后对于相关请求，会更快批准，使美军在例行性、规律性的基础下，展开“自由航行行动”。', '对此，《印度时报》发表窃喜，美国的这项计划，将会使中国在南海十分忙碌，无暇顾及日本、印度等国的海洋纠纷。', '据此前报道，南京大学国际关系学院院长朱锋认为，不管美国军方基于何种目的制订在南海的年度巡航计划，它对中美关系都是一种冲击。事实上，对“自由航行”对南海局势产生的影响，美国国内的争议也在增加。已经有一些美国人意识到，所谓“自由航行”并不能实质性地改变中国基于主权和法理依据采取的维权行动。美国以自己的标准和依据单方面执行“自由航行”，不断增加对中国的压力，只会加剧南海局势紧张，这也是包括东盟国家在内的国际社会不愿意看到的。（综编/海外网', '巩浩）']\n",
      "['记者：不久前，美军政官员在不同场合表示，美军将持续开展南海“航行自由行动”。请问对此作何评论？', '任国强：中国对南海诸岛及其附近海域拥有无可争辩的主权。在中国和东盟国家的共同努力下，当前南海形势总体向好。在这种情况下，美方“不请自来”，一再派遣舰机擅闯中国南海岛礁邻近海空域，损害中国的主权安全，践踏国际法和国际准则，危害地区和平与稳定。我们对此坚决反对。', '中国一贯尊重各国依据国际法在南海享有的航行和飞越自由。事实证明，南海航行是不存在问题的，但航行不是“横行”，自由不能违法。中方坚决反对任何国家借“航行自由”之名进行违法挑衅，损害沿岸国主权和安全，危害地区和平与稳定。', '我们要求美方切实尊重中国的主权和安全，尊重地区国家维护和平、稳定与安宁的强烈共同愿望，不要在南海无事生非、兴风作浪。中国军队将采取坚决措施，坚定捍卫国家主权和安全，坚定维护地区和平稳定。']\n",
      "['参考消息网6月30日报道', '据中国外交部网站消息，中国驻英国大使刘晓明6月27日在英国《卫报》网站发表署名文章，题目为《中国不容美国在南海“秀肌肉”》，现将全文摘编如下：', '最近，一些人热衷炒作南海“航行自由”问题。美国一边鼓噪所谓反对南海“军事化”，一边频繁派军用舰机到南海“秀肌肉”。为了拨云见日、澄清真相，我认为有必要搞清楚四个问题：', '第一，什么是航行自由？', '根据包括《联合国海洋法公约》在内的国际法，一国船舶在另一国领海内行使航行自由，必须符合“无害通过（Innocent', 'Passage）”标准，即不得使用或威胁使用武力，不得进行军事演习、搜集情报等行动。《公约》对外国军舰是否享有“无害通过”权未作明确规定，但世界上很多国家都要求外国军舰进入本国领海应获得批准或事先通知，比如中国在1992年《领海及毗连区法》就作出了相关规定。', '航行自由并不是绝对的“自由航行”。美国提出的所谓“航行自由行动”与国际法上公认的航行自由不能混为一谈。“航行自由行动”是美国为其在世界各地“横行”提供的理由，这是对国际法的曲解和滥用，是彻头彻尾的“横行自由”。', '\\ufeff点击下一页继续阅读全文', '上一页', '1', '2', '3', '4', '5', '6', '7', '8', '下一页', '相关阅读', '俄媒解析美国为何对中国在南海的“不沉航母”如此紧张', '美刊称马来西亚扩充军力应对南海局势', '菲越也在购买武器', '外交部敦促美方停止在南海地区寻衅滋事', '中方批美炒作南海问题：有种“贼喊捉贼”的滑稽', '中国派舰机驱离擅闯西沙美舰', '俄媒：美国在南海“玩弄诡计”', '凡注明“来源：参考消息网”的所有作品，未经本网授权，不得转载、摘编或以其他方式使用。']\n",
      "['据美国有线电视新闻网（CNN）11月29日报道称，两名美国官员向CNN表示美国海军提康德罗加级导弹巡洋舰“切斯劳维尔”号(CG62)星期一（26日）在中国南海海域的西沙群岛附近巡航。', '文章称，美国太平洋舰队发言人内森·克里斯滕森在声明中称：“切斯劳维尔号在西沙群岛附近航行，这次行动是为了挑战过度的海上主张，并保护水路的使用受到国际法的管辖”。克里斯滕森补充说，美国军舰在西沙群岛附近进行了所谓“航行自由”行动。', '美媒表示，一名美国官员表示，“切斯劳维尔”号在行动期间被一艘中国船只跟随，但双方的所有互动都被认为是安全和专业的。“美国军队每天都在印度-太平洋地区开展任务，包括中国南海。所有行动都是按照国际法进行的，并表明美国将在国际法允许的任何地方飞行，航行和执行任务，”克里斯滕森说。', '美媒表示，在9月下旬，作为类似的“航行自由”行动的一部分，美军迪凯特号驱逐舰曾在南沙群岛南薰礁和赤瓜礁的12海里内航行。在11月28日，美国海军还派出了两艘军舰通过台湾海峡。', '据资料显示，“切斯劳维尔”号(CG62)在11月21日刚刚跟随“里根”号航母访问中国香港，并于25日结束访问离开。', '对于美国军方近期在南海海域的挑衅行为，中国外交部曾表示，南海地区的航行和飞越自由根本不存在任何问题。', '11月16日外交部发言人华春莹表示，南海航行和飞越自由从来不存在任何问题。“我们曾经多次问美方或者声称南海航行自由有问题的人，请拿出证据来，证明有哪个国家的哪艘船、哪架飞机、什么时候在南海航行或者飞越时遇到了问题？但到目前为止，没有任何人给出一个明确的答案。由此可见，所谓南海航行与飞越自由根本就是一个不存在的伪命题。”', '华春莹表示，中方的立场非常明确，愿与地区国家一道，坚定维护各国依据国际法所享有的真正的航行与飞越自由，同时坚决反对那些打着所谓航行自由的幌子损害南海沿岸国主权与安全利益的行为。美方打着“航行和飞越自由”的旗号，频繁派军舰军机到南海抵近中国南海岛礁，擅自闯入中国西沙群岛领海，这才是在制造紧张、搞“军事化”。']\n"
     ]
    }
   ],
   "source": [
    "# 依据新闻内容构建事件中心关系图\n",
    "iter_num = 0\n",
    "for content in df['content']:\n",
    "    # content = ''.join(content.split()) #split方法中不带参数时，表示分割所有换行符、制表符、空格\n",
    "    # content = content.replace(u'\\u3000', u'').replace('\\n','').replace(' ','').replace('\\r','')\n",
    "    # content_words = re.split('。|！|？',content)\n",
    "    content_words = content.split()\n",
    "    # print(content_words)\n",
    "    if iter_num > 10: break\n",
    "    iter_num += 1"
   ]
  },
  {
   "cell_type": "markdown",
   "metadata": {},
   "source": [
    "# 效果可视化"
   ]
  },
  {
   "cell_type": "code",
   "execution_count": 34,
   "metadata": {},
   "outputs": [
    {
     "data": {
      "text/html": [
       "\n",
       "<script>\n",
       "    require.config({\n",
       "        paths: {\n",
       "            'echarts':'https://assets.pyecharts.org/assets/echarts.min'\n",
       "        }\n",
       "    });\n",
       "</script>\n",
       "\n",
       "        <div id=\"a4bde9da2e854c5bb9e34a69661aad9c\" style=\"width:900px; height:500px;\"></div>\n",
       "\n",
       "<script>\n",
       "        require(['echarts'], function(echarts) {\n",
       "                var chart_a4bde9da2e854c5bb9e34a69661aad9c = echarts.init(\n",
       "                    document.getElementById('a4bde9da2e854c5bb9e34a69661aad9c'), 'white', {renderer: 'canvas'});\n",
       "                var option_a4bde9da2e854c5bb9e34a69661aad9c = {\n",
       "    \"animation\": true,\n",
       "    \"animationThreshold\": 2000,\n",
       "    \"animationDuration\": 1000,\n",
       "    \"animationEasing\": \"cubicOut\",\n",
       "    \"animationDelay\": 0,\n",
       "    \"animationDurationUpdate\": 300,\n",
       "    \"animationEasingUpdate\": \"cubicOut\",\n",
       "    \"animationDelayUpdate\": 0,\n",
       "    \"color\": [\n",
       "        \"#c23531\",\n",
       "        \"#2f4554\",\n",
       "        \"#61a0a8\",\n",
       "        \"#d48265\",\n",
       "        \"#749f83\",\n",
       "        \"#ca8622\",\n",
       "        \"#bda29a\",\n",
       "        \"#6e7074\",\n",
       "        \"#546570\",\n",
       "        \"#c4ccd3\",\n",
       "        \"#f05b72\",\n",
       "        \"#ef5b9c\",\n",
       "        \"#f47920\",\n",
       "        \"#905a3d\",\n",
       "        \"#fab27b\",\n",
       "        \"#2a5caa\",\n",
       "        \"#444693\",\n",
       "        \"#726930\",\n",
       "        \"#b2d235\",\n",
       "        \"#6d8346\",\n",
       "        \"#ac6767\",\n",
       "        \"#1d953f\",\n",
       "        \"#6950a1\",\n",
       "        \"#918597\"\n",
       "    ],\n",
       "    \"series\": [\n",
       "        {\n",
       "            \"type\": \"graph\",\n",
       "            \"layout\": \"force\",\n",
       "            \"symbolSize\": 10,\n",
       "            \"circular\": {\n",
       "                \"rotateLabel\": false\n",
       "            },\n",
       "            \"force\": {\n",
       "                \"repulsion\": 4000,\n",
       "                \"edgeLength\": 50,\n",
       "                \"gravity\": 0.2\n",
       "            },\n",
       "            \"label\": {\n",
       "                \"show\": true,\n",
       "                \"position\": \"top\",\n",
       "                \"margin\": 8\n",
       "            },\n",
       "            \"lineStyle\": {\n",
       "                \"show\": true,\n",
       "                \"width\": 1,\n",
       "                \"opacity\": 1,\n",
       "                \"curveness\": 0,\n",
       "                \"type\": \"solid\"\n",
       "            },\n",
       "            \"roam\": true,\n",
       "            \"draggable\": false,\n",
       "            \"focusNodeAdjacency\": true,\n",
       "            \"data\": [\n",
       "                {\n",
       "                    \"name\": \"\\u53d1\\u8d77\\u5165\\u4fb5\\u884c\\u52a8\",\n",
       "                    \"fixed\": false,\n",
       "                    \"symbolSize\": 40\n",
       "                },\n",
       "                {\n",
       "                    \"name\": \"\\u8fdb\\u884c\\u9632\\u536b\\u884c\\u52a8\",\n",
       "                    \"fixed\": false,\n",
       "                    \"symbolSize\": 40\n",
       "                },\n",
       "                {\n",
       "                    \"name\": \"\\u8fdb\\u884c\\u519b\\u4e8b\\u8bbf\\u95ee\",\n",
       "                    \"fixed\": false,\n",
       "                    \"symbolSize\": 40\n",
       "                },\n",
       "                {\n",
       "                    \"name\": \"\\u53d1\\u8d77\\u519b\\u6f14\\u6d3b\\u52a8\",\n",
       "                    \"fixed\": false,\n",
       "                    \"symbolSize\": 40\n",
       "                },\n",
       "                {\n",
       "                    \"name\": \"\\u9610\\u660e\\u56fd\\u5bb6\\u7acb\\u573a\",\n",
       "                    \"fixed\": false,\n",
       "                    \"symbolSize\": 40\n",
       "                },\n",
       "                {\n",
       "                    \"name\": \"\\u5a92\\u4f53\\u53d1\\u8868\\u8bc4\\u8bba\",\n",
       "                    \"fixed\": false,\n",
       "                    \"symbolSize\": 40\n",
       "                }\n",
       "            ],\n",
       "            \"edgeLabel\": {\n",
       "                \"show\": true,\n",
       "                \"position\": \"middle\",\n",
       "                \"margin\": 8,\n",
       "                \"formatter\": \"{c}\"\n",
       "            },\n",
       "            \"edgeSymbol\": [\n",
       "                null,\n",
       "                null\n",
       "            ],\n",
       "            \"edgeSymbolSize\": 10,\n",
       "            \"links\": [\n",
       "                {\n",
       "                    \"source\": \"\\u53d1\\u8d77\\u5165\\u4fb5\\u884c\\u52a8\",\n",
       "                    \"target\": \"\\u8fdb\\u884c\\u9632\\u536b\\u884c\\u52a8\",\n",
       "                    \"value\": 152.0\n",
       "                },\n",
       "                {\n",
       "                    \"source\": \"\\u53d1\\u8d77\\u5165\\u4fb5\\u884c\\u52a8\",\n",
       "                    \"target\": \"\\u8fdb\\u884c\\u519b\\u4e8b\\u8bbf\\u95ee\",\n",
       "                    \"value\": 1.0\n",
       "                },\n",
       "                {\n",
       "                    \"source\": \"\\u53d1\\u8d77\\u5165\\u4fb5\\u884c\\u52a8\",\n",
       "                    \"target\": \"\\u53d1\\u8d77\\u519b\\u6f14\\u6d3b\\u52a8\",\n",
       "                    \"value\": 42.0\n",
       "                },\n",
       "                {\n",
       "                    \"source\": \"\\u53d1\\u8d77\\u5165\\u4fb5\\u884c\\u52a8\",\n",
       "                    \"target\": \"\\u9610\\u660e\\u56fd\\u5bb6\\u7acb\\u573a\",\n",
       "                    \"value\": 290.0\n",
       "                },\n",
       "                {\n",
       "                    \"source\": \"\\u53d1\\u8d77\\u5165\\u4fb5\\u884c\\u52a8\",\n",
       "                    \"target\": \"\\u5a92\\u4f53\\u53d1\\u8868\\u8bc4\\u8bba\",\n",
       "                    \"value\": 148.0\n",
       "                },\n",
       "                {\n",
       "                    \"source\": \"\\u8fdb\\u884c\\u9632\\u536b\\u884c\\u52a8\",\n",
       "                    \"target\": \"\\u53d1\\u8d77\\u5165\\u4fb5\\u884c\\u52a8\",\n",
       "                    \"value\": 152.0\n",
       "                },\n",
       "                {\n",
       "                    \"source\": \"\\u8fdb\\u884c\\u9632\\u536b\\u884c\\u52a8\",\n",
       "                    \"target\": \"\\u8fdb\\u884c\\u519b\\u4e8b\\u8bbf\\u95ee\",\n",
       "                    \"value\": 1.0\n",
       "                },\n",
       "                {\n",
       "                    \"source\": \"\\u8fdb\\u884c\\u9632\\u536b\\u884c\\u52a8\",\n",
       "                    \"target\": \"\\u53d1\\u8d77\\u519b\\u6f14\\u6d3b\\u52a8\",\n",
       "                    \"value\": 8.0\n",
       "                },\n",
       "                {\n",
       "                    \"source\": \"\\u8fdb\\u884c\\u9632\\u536b\\u884c\\u52a8\",\n",
       "                    \"target\": \"\\u9610\\u660e\\u56fd\\u5bb6\\u7acb\\u573a\",\n",
       "                    \"value\": 99.0\n",
       "                },\n",
       "                {\n",
       "                    \"source\": \"\\u8fdb\\u884c\\u9632\\u536b\\u884c\\u52a8\",\n",
       "                    \"target\": \"\\u5a92\\u4f53\\u53d1\\u8868\\u8bc4\\u8bba\",\n",
       "                    \"value\": 46.0\n",
       "                },\n",
       "                {\n",
       "                    \"source\": \"\\u8fdb\\u884c\\u519b\\u4e8b\\u8bbf\\u95ee\",\n",
       "                    \"target\": \"\\u53d1\\u8d77\\u5165\\u4fb5\\u884c\\u52a8\",\n",
       "                    \"value\": 1.0\n",
       "                },\n",
       "                {\n",
       "                    \"source\": \"\\u8fdb\\u884c\\u519b\\u4e8b\\u8bbf\\u95ee\",\n",
       "                    \"target\": \"\\u8fdb\\u884c\\u9632\\u536b\\u884c\\u52a8\",\n",
       "                    \"value\": 1.0\n",
       "                },\n",
       "                {\n",
       "                    \"source\": \"\\u8fdb\\u884c\\u519b\\u4e8b\\u8bbf\\u95ee\",\n",
       "                    \"target\": \"\\u9610\\u660e\\u56fd\\u5bb6\\u7acb\\u573a\",\n",
       "                    \"value\": 3.0\n",
       "                },\n",
       "                {\n",
       "                    \"source\": \"\\u8fdb\\u884c\\u519b\\u4e8b\\u8bbf\\u95ee\",\n",
       "                    \"target\": \"\\u5a92\\u4f53\\u53d1\\u8868\\u8bc4\\u8bba\",\n",
       "                    \"value\": 6.0\n",
       "                },\n",
       "                {\n",
       "                    \"source\": \"\\u53d1\\u8d77\\u519b\\u6f14\\u6d3b\\u52a8\",\n",
       "                    \"target\": \"\\u53d1\\u8d77\\u5165\\u4fb5\\u884c\\u52a8\",\n",
       "                    \"value\": 42.0\n",
       "                },\n",
       "                {\n",
       "                    \"source\": \"\\u53d1\\u8d77\\u519b\\u6f14\\u6d3b\\u52a8\",\n",
       "                    \"target\": \"\\u8fdb\\u884c\\u9632\\u536b\\u884c\\u52a8\",\n",
       "                    \"value\": 8.0\n",
       "                },\n",
       "                {\n",
       "                    \"source\": \"\\u53d1\\u8d77\\u519b\\u6f14\\u6d3b\\u52a8\",\n",
       "                    \"target\": \"\\u9610\\u660e\\u56fd\\u5bb6\\u7acb\\u573a\",\n",
       "                    \"value\": 28.0\n",
       "                },\n",
       "                {\n",
       "                    \"source\": \"\\u53d1\\u8d77\\u519b\\u6f14\\u6d3b\\u52a8\",\n",
       "                    \"target\": \"\\u5a92\\u4f53\\u53d1\\u8868\\u8bc4\\u8bba\",\n",
       "                    \"value\": 34.0\n",
       "                },\n",
       "                {\n",
       "                    \"source\": \"\\u9610\\u660e\\u56fd\\u5bb6\\u7acb\\u573a\",\n",
       "                    \"target\": \"\\u53d1\\u8d77\\u5165\\u4fb5\\u884c\\u52a8\",\n",
       "                    \"value\": 290.0\n",
       "                },\n",
       "                {\n",
       "                    \"source\": \"\\u9610\\u660e\\u56fd\\u5bb6\\u7acb\\u573a\",\n",
       "                    \"target\": \"\\u8fdb\\u884c\\u9632\\u536b\\u884c\\u52a8\",\n",
       "                    \"value\": 99.0\n",
       "                },\n",
       "                {\n",
       "                    \"source\": \"\\u9610\\u660e\\u56fd\\u5bb6\\u7acb\\u573a\",\n",
       "                    \"target\": \"\\u8fdb\\u884c\\u519b\\u4e8b\\u8bbf\\u95ee\",\n",
       "                    \"value\": 3.0\n",
       "                },\n",
       "                {\n",
       "                    \"source\": \"\\u9610\\u660e\\u56fd\\u5bb6\\u7acb\\u573a\",\n",
       "                    \"target\": \"\\u53d1\\u8d77\\u519b\\u6f14\\u6d3b\\u52a8\",\n",
       "                    \"value\": 28.0\n",
       "                },\n",
       "                {\n",
       "                    \"source\": \"\\u9610\\u660e\\u56fd\\u5bb6\\u7acb\\u573a\",\n",
       "                    \"target\": \"\\u5a92\\u4f53\\u53d1\\u8868\\u8bc4\\u8bba\",\n",
       "                    \"value\": 81.0\n",
       "                },\n",
       "                {\n",
       "                    \"source\": \"\\u5a92\\u4f53\\u53d1\\u8868\\u8bc4\\u8bba\",\n",
       "                    \"target\": \"\\u53d1\\u8d77\\u5165\\u4fb5\\u884c\\u52a8\",\n",
       "                    \"value\": 148.0\n",
       "                },\n",
       "                {\n",
       "                    \"source\": \"\\u5a92\\u4f53\\u53d1\\u8868\\u8bc4\\u8bba\",\n",
       "                    \"target\": \"\\u8fdb\\u884c\\u9632\\u536b\\u884c\\u52a8\",\n",
       "                    \"value\": 46.0\n",
       "                },\n",
       "                {\n",
       "                    \"source\": \"\\u5a92\\u4f53\\u53d1\\u8868\\u8bc4\\u8bba\",\n",
       "                    \"target\": \"\\u8fdb\\u884c\\u519b\\u4e8b\\u8bbf\\u95ee\",\n",
       "                    \"value\": 6.0\n",
       "                },\n",
       "                {\n",
       "                    \"source\": \"\\u5a92\\u4f53\\u53d1\\u8868\\u8bc4\\u8bba\",\n",
       "                    \"target\": \"\\u53d1\\u8d77\\u519b\\u6f14\\u6d3b\\u52a8\",\n",
       "                    \"value\": 34.0\n",
       "                },\n",
       "                {\n",
       "                    \"source\": \"\\u5a92\\u4f53\\u53d1\\u8868\\u8bc4\\u8bba\",\n",
       "                    \"target\": \"\\u9610\\u660e\\u56fd\\u5bb6\\u7acb\\u573a\",\n",
       "                    \"value\": 81.0\n",
       "                }\n",
       "            ]\n",
       "        }\n",
       "    ],\n",
       "    \"legend\": [\n",
       "        {\n",
       "            \"data\": [],\n",
       "            \"selected\": {},\n",
       "            \"show\": true,\n",
       "            \"padding\": 5,\n",
       "            \"itemGap\": 10,\n",
       "            \"itemWidth\": 25,\n",
       "            \"itemHeight\": 14\n",
       "        }\n",
       "    ],\n",
       "    \"tooltip\": {\n",
       "        \"show\": true,\n",
       "        \"trigger\": \"item\",\n",
       "        \"triggerOn\": \"mousemove|click\",\n",
       "        \"axisPointer\": {\n",
       "            \"type\": \"line\"\n",
       "        },\n",
       "        \"textStyle\": {\n",
       "            \"fontSize\": 14\n",
       "        },\n",
       "        \"borderWidth\": 0\n",
       "    },\n",
       "    \"title\": [\n",
       "        {\n",
       "            \"text\": \"\\u5357\\u6d77\\u4e8b\\u4ef6\",\n",
       "            \"padding\": 5,\n",
       "            \"itemGap\": 10\n",
       "        }\n",
       "    ]\n",
       "};\n",
       "                chart_a4bde9da2e854c5bb9e34a69661aad9c.setOption(option_a4bde9da2e854c5bb9e34a69661aad9c);\n",
       "        });\n",
       "    </script>\n"
      ],
      "text/plain": [
       "<pyecharts.render.display.HTML at 0x2decd489518>"
      ]
     },
     "execution_count": 34,
     "metadata": {},
     "output_type": "execute_result"
    }
   ],
   "source": [
    "from pyecharts import options as opts\n",
    "from pyecharts.charts import Graph\n",
    "\n",
    "\n",
    "nodes_data = [opts.GraphNode(name=event_info[event_key], symbol_size=40) for event_key in eventtoid.keys()]\n",
    "links_data = []\n",
    "\n",
    "[rows, cols] = event_graph.shape\n",
    "for i in range(rows):\n",
    "    for j in range(cols):\n",
    "        if i == j: continue\n",
    "        if event_graph[i, j] == 0: continue\n",
    "        links_data.append(opts.GraphLink(source=event_info[idtoevent[i]], target=event_info[idtoevent[j]], value=event_graph[i, j]))\n",
    "\n",
    "graph = (\n",
    "    Graph()\n",
    "    .add(\n",
    "        \"\",\n",
    "        nodes_data,\n",
    "        links_data,\n",
    "        repulsion=4000,\n",
    "        edge_label=opts.LabelOpts(\n",
    "            is_show=True, position=\"middle\", formatter=\"{c}\"\n",
    "        ),\n",
    "    )\n",
    "    .set_global_opts(\n",
    "        title_opts=opts.TitleOpts(title=\"南海事件\")\n",
    "    )\n",
    "    # .render(\"result/event_center_graph.html\")\n",
    ")\n",
    "graph.render_notebook()"
   ]
  },
  {
   "cell_type": "markdown",
   "metadata": {},
   "source": [
    "# 事件-时间演化图构建"
   ]
  },
  {
   "cell_type": "code",
   "execution_count": 3,
   "metadata": {},
   "outputs": [],
   "source": [
    "df = pd.read_csv(\"data/南海自由航行_news_newlabel.csv\")"
   ]
  },
  {
   "cell_type": "code",
   "execution_count": 4,
   "metadata": {},
   "outputs": [
    {
     "data": {
      "text/plain": [
       "69      2019-11-22\n",
       "194     2019-11-23\n",
       "344     2019-11-20\n",
       "384     2019-11-23\n",
       "450     2019-11-27\n",
       "           ...    \n",
       "4796    2019-11-25\n",
       "4850    2019-11-27\n",
       "4851    2019-11-27\n",
       "4853    2019-11-27\n",
       "4854    2019-11-27\n",
       "Name: time, Length: 119, dtype: object"
      ]
     },
     "execution_count": 4,
     "metadata": {},
     "output_type": "execute_result"
    }
   ],
   "source": [
    "df['time'] = pd.to_datetime(df['time'])\n",
    "df['time'] = [datetime.strftime(x,'%Y-%m-%d') for x in df['time']]\n",
    "# df = df.set_index('time')\n",
    "df = df[(df['time'] >= '2019-11-20') & (df['time'] <= '2019-11-27')] # 筛选时间段\n",
    "df['time']"
   ]
  },
  {
   "cell_type": "code",
   "execution_count": 5,
   "metadata": {},
   "outputs": [],
   "source": [
    "group_result = df.groupby (df['time'])"
   ]
  },
  {
   "cell_type": "code",
   "execution_count": 12,
   "metadata": {},
   "outputs": [
    {
     "name": "stdout",
     "output_type": "stream",
     "text": [
      "2019-11-20\n",
      "Number of labels is 1. Valid values are 2 to n_samples - 1 (inclusive)\n",
      "3 0.03494684619278409\n",
      "2019-11-22\n",
      "Number of labels is 1. Valid values are 2 to n_samples - 1 (inclusive)\n",
      "3 0.24097830897037528\n",
      "2019-11-23\n",
      "Number of labels is 1. Valid values are 2 to n_samples - 1 (inclusive)\n",
      "3 0.30804076463107805\n",
      "2019-11-24\n",
      "Number of labels is 1. Valid values are 2 to n_samples - 1 (inclusive)\n",
      "3 0.3288123460202369\n",
      "2019-11-25\n",
      "Number of labels is 1. Valid values are 2 to n_samples - 1 (inclusive)\n",
      "3 0.003755232233632305\n",
      "2019-11-26\n",
      "2019-11-27\n",
      "Number of labels is 1. Valid values are 2 to n_samples - 1 (inclusive)\n",
      "3 0.35822082352291645\n"
     ]
    }
   ],
   "source": [
    "from cluster_vps import k_means_tfidf\n",
    "import codecs\n",
    "import json\n",
    "json_result = {}  # 输出为json文件反馈给前端\n",
    "with codecs.open(\"result/news_date_k_means_clusters.txt\", \"w\", \"utf-8\") as wf:\n",
    "    for time, day_df in group_result:\n",
    "        print(time)\n",
    "        json_result[time] = []\n",
    "        \n",
    "        title_list = day_df['title'].tolist()\n",
    "        result = k_means_tfidf(title_list, 1, 5)\n",
    "        wf.write(time + \"\\n\")\n",
    "        for key in result[0].keys():\n",
    "            tmp = {}\n",
    "            wf.write(\"cluster\" + str(key) + \"\\n\")\n",
    "            wf.write(\"center: \" + result[1][key] + \"\\n\")\n",
    "            tmp['cluster'] = str(key)\n",
    "            tmp['center'] = result[1][key]\n",
    "            tmp['title_list'] = []\n",
    "            for i in result[0][key]:\n",
    "                wf.write(title_list[i] + \"\\n\")\n",
    "                tmp['title_list'].append(title_list[i])\n",
    "            wf.write(\"\\n\")\n",
    "            json_result[time].append(tmp)\n",
    "        wf.write(\"=============\\n\\n\")\n",
    "with codecs.open(\"result/20191120-20191127_titlecluster.json\", \"w\", 'utf-8') as wf:\n",
    "    json.dump(json_result, wf, indent=4)"
   ]
  },
  {
   "cell_type": "code",
   "execution_count": null,
   "metadata": {},
   "outputs": [],
   "source": []
  }
 ],
 "metadata": {
  "kernelspec": {
   "display_name": "Python 3",
   "language": "python",
   "name": "python3"
  },
  "language_info": {
   "codemirror_mode": {
    "name": "ipython",
    "version": 3
   },
   "file_extension": ".py",
   "mimetype": "text/x-python",
   "name": "python",
   "nbconvert_exporter": "python",
   "pygments_lexer": "ipython3",
   "version": "3.6.10"
  }
 },
 "nbformat": 4,
 "nbformat_minor": 4
}
